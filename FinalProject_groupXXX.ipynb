{
 "cells": [
  {
   "cell_type": "markdown",
   "id": "06cea847-8936-4684-8eaf-0e5f4721e101",
   "metadata": {},
   "source": [
    "# COGS 108 - Final Project"
   ]
  },
  {
   "cell_type": "markdown",
   "id": "3d7551d7-6681-4816-b900-d5b828dfcae4",
   "metadata": {},
   "source": [
    "# Permissions\n",
    "- [X] YES - make available\n",
    "- [ ] NO - keep private"
   ]
  },
  {
   "cell_type": "markdown",
   "id": "1f3888db-e621-489e-ac73-0b59520a1479",
   "metadata": {},
   "source": [
    "# Overview\n",
    "Include 3-4 sentences summarizing your group’s project and results."
   ]
  },
  {
   "cell_type": "markdown",
   "id": "52ba5a3a-09e1-4ff5-967b-36fdc8b6bd21",
   "metadata": {},
   "source": [
    "# Names\n",
    "- Jack Weston\n",
    "- Seema Rida\n",
    "- Spandan Das"
   ]
  },
  {
   "cell_type": "markdown",
   "id": "af709229-4d0d-413f-912a-ebc5304d5ae3",
   "metadata": {},
   "source": [
    "# Research Question"
   ]
  },
  {
   "cell_type": "markdown",
   "id": "702672fe-aa81-4c2f-ade5-9254ccc88050",
   "metadata": {},
   "source": [
    "# Background & Prior Work"
   ]
  },
  {
   "cell_type": "markdown",
   "id": "8a521ad5-2fc5-40d8-9979-e0bdfdc22c42",
   "metadata": {},
   "source": [
    "# Hypothesis"
   ]
  },
  {
   "cell_type": "markdown",
   "id": "947c63c3-c8fc-4be4-aa8d-af9c02224009",
   "metadata": {},
   "source": [
    "# Dataset"
   ]
  },
  {
   "cell_type": "markdown",
   "id": "bfe1eef8-e937-4ff3-b2bc-e11c5c3a5150",
   "metadata": {},
   "source": [
    "# Setup"
   ]
  },
  {
   "cell_type": "markdown",
   "id": "f929dd9a-bed0-4267-b767-a0008cecfdfd",
   "metadata": {},
   "source": [
    "# Data Cleaning"
   ]
  },
  {
   "cell_type": "markdown",
   "id": "f956b7c5-d13c-424a-ac0f-389aa8fbee0e",
   "metadata": {},
   "source": [
    "# Data Analysis & Results\n",
    "This section should include markdown text and code walking us through the following:\n",
    "\n",
    "- EDA (Same as Checkpoint #2, but clean visualizations up and feel free to remove unecessary visualizations)\n",
    "\n",
    "    - What distributions do your variables take?\n",
    "    - Are there any outliers?\n",
    "    - Relationship between variables?\n",
    "- Analysis (Note that you will likely have to do some Googling for analytical approaches not discussed in class. This is expected for this project and an important skill for a data scientist to master.)\n",
    "\n",
    "    - What approaches did you use? Why?\n",
    "    - What were the results?\n",
    "    - What were your interpretation of these findings.\n",
    "- Data Visualization - There must be at least three (3) appropriate data visualizations throughout these sections. Each visualization must included an interpretation of what is displayed and what should be learned from that visualization. Be sure that the appropriate type of visualization is generated given the data that you have, axes are all labeled, and the visualizations clearly communicate the point you’re trying to make."
   ]
  },
  {
   "cell_type": "markdown",
   "id": "85fdd752-0d39-4843-9e05-863f1eafd534",
   "metadata": {},
   "source": [
    "# Ethics & Privacy"
   ]
  },
  {
   "cell_type": "markdown",
   "id": "256dc561-c45d-4a3f-b285-04195f73151f",
   "metadata": {},
   "source": [
    "# Conclusion & Discussion\n",
    "Discuss your project. Summarize your data and question. Briefly describe your analysis. Summarize your results and conclusions. Be sure to mention any limitations of your project. Discuss the impact of this work on society. (~2-3 paragraphs)"
   ]
  },
  {
   "cell_type": "markdown",
   "id": "4a0dda1a-3b8b-4337-9cae-1eb42981b573",
   "metadata": {},
   "source": [
    "# Video\n",
    "Each group will submit a single 3-5 minute video on canvas communicating their group's final project. Only one member of each group will submit the video on Canvas, but the grade received will apply to everyone. This video will have to incorporate the visualization and effective communication strategies discussed in class. However, this can be creative. It is up to the group to decide how to most effectively communicate their project and results.\n",
    "\n",
    "All group members must participate in the completion of the video submitted; however, not everyone has to be on screen or talk in the video. How you delegate tasks here is up to the group."
   ]
  },
  {
   "cell_type": "code",
   "execution_count": null,
   "id": "a4eaeb8a-3133-43fe-9367-e14dd85fd670",
   "metadata": {},
   "outputs": [],
   "source": []
  }
 ],
 "metadata": {
  "kernelspec": {
   "display_name": "Python 3 (ipykernel)",
   "language": "python",
   "name": "python3"
  },
  "language_info": {
   "codemirror_mode": {
    "name": "ipython",
    "version": 3
   },
   "file_extension": ".py",
   "mimetype": "text/x-python",
   "name": "python",
   "nbconvert_exporter": "python",
   "pygments_lexer": "ipython3",
   "version": "3.11.9"
  }
 },
 "nbformat": 4,
 "nbformat_minor": 5
}
