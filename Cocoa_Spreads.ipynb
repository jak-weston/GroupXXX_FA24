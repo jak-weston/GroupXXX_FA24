{
 "cells": [
  {
   "cell_type": "markdown",
   "id": "29d2908e-cb9c-4060-882e-353478dbc2db",
   "metadata": {},
   "source": [
    "## Tracking daily changes in historic Cocoa ICE (CC) futures \n",
    "In this notebook we are extracting historic daily close prices for any cocoa futures,using continuation Rics up to 12 months forward . In addition, we are analysing the spread between two contracts."
   ]
  },
  {
   "cell_type": "markdown",
   "id": "8cfe1cc4-26a8-49df-a165-8a780c18e75b",
   "metadata": {},
   "source": [
    "### Import required packages"
   ]
  },
  {
   "cell_type": "code",
   "execution_count": null,
   "id": "e9e6b93c-67f4-4558-b11a-51926466b68b",
   "metadata": {},
   "outputs": [],
   "source": [
    "import pandas as pd\n",
    "import refinitiv.data as rd\n",
    "import plotly.graph_objects as go\n",
    "from plotly.subplots import make_subplots\n",
    "import plotly.express as px\n",
    "import warnings\n",
    "import datetime as dt\n",
    "warnings.filterwarnings(\"ignore\")\n",
    "\n",
    "rd.open_session()"
   ]
  },
  {
   "cell_type": "markdown",
   "id": "532bd686-0676-4179-aaef-84e32776396b",
   "metadata": {},
   "source": [
    "### Main code and functions"
   ]
  },
  {
   "cell_type": "code",
   "execution_count": null,
   "id": "7a104dbd-99e5-45a9-aeed-a5e9be0c8d91",
   "metadata": {},
   "outputs": [],
   "source": [
    "# Function to generate the ric list\n",
    "\n",
    "def gen_contracts(baseString):\n",
    "    contracts = []\n",
    "    for i in range(1, 37):\n",
    "        contracts.append(baseString+'c'+str(i))\n",
    "    return contracts\n",
    "# Function to retrieve the data\n",
    "\n",
    "\n",
    "def get_contracts_data(baseCon, start_date, end_date):\n",
    "    contracts = gen_contracts(baseCon)\n",
    "    print(contracts)\n",
    "    df = rd.get_history(contracts, fields=[\n",
    "                        \"MID_PRICE\"], start=start_date, end=end_date, interval='daily', count=10000)\n",
    "    return df\n",
    "\n",
    "# Function for anlyzing spread\n",
    "\n",
    "\n",
    "def spread_analysis(df, c1, c2):\n",
    "    df = df.reset_index().ffill()\n",
    "    df['spread'] = df[c1] - df[c2]\n",
    "    df['Z_score_spread'] = (df.spread - df.spread.mean())/df.spread.std(ddof=0)\n",
    "\n",
    "    fig = px.line(df, x='Date', y='Z_score_spread',\n",
    "                  title='Normalized Spread b/w two contracts')\n",
    "    fig.add_shape(type='line',\n",
    "                  x0=df['Date'].iloc[0],\n",
    "                  y0=-3,\n",
    "                  x1=df['Date'].iloc[-1],\n",
    "                  y1=-3,\n",
    "                  line=dict(color='Red',),\n",
    "                  xref='x',\n",
    "                  yref='y'\n",
    "                  )\n",
    "    fig.add_shape(type='line',\n",
    "                  x0=df['Date'].iloc[0],\n",
    "                  y0=3,\n",
    "                  x1=df['Date'].iloc[-1],\n",
    "                  y1=3,\n",
    "                  line=dict(color='Red',),\n",
    "                  xref='x',\n",
    "                  yref='y'\n",
    "\n",
    "                  )\n",
    "    fig.show()"
   ]
  },
  {
   "cell_type": "markdown",
   "id": "68bedf05-55bd-413e-be27-1a2c9249f449",
   "metadata": {},
   "source": [
    "### Enter RIC root to get data. \n",
    "Enter the Ric root for each metal to get data, for example Cc1 for December-2024 and Cc2 for March-2025"
   ]
  },
  {
   "cell_type": "code",
   "execution_count": null,
   "id": "cc2c4013-ffa6-4654-a85d-4f10ce216920",
   "metadata": {},
   "outputs": [],
   "source": [
    "from refinitiv_widgets import TextField\n",
    "from refinitiv_widgets import DatetimePicker\n",
    "baseCon = TextField(placeholder='Enter Ric Root')\n",
    "\n",
    "baseCon"
   ]
  },
  {
   "cell_type": "code",
   "execution_count": null,
   "id": "99ac6dee-ce3a-432e-a14d-ad1aa9f45f93",
   "metadata": {},
   "outputs": [],
   "source": [
    "from refinitiv_widgets import TextField\n",
    "dp = DatetimePicker(\n",
    "    range_mode=True,\n",
    "    duplex_mode='split',\n",
    "    weekdays_only=True,\n",
    "    value=[\"2022-01-01\", \"2022-09-09\"])\n",
    "dp"
   ]
  },
  {
   "cell_type": "markdown",
   "id": "2dbc7e26-6935-49d5-897e-0c5903864a69",
   "metadata": {},
   "source": [
    "### Extract Data\n",
    "File will be saved in user home directory. (same level with Examples folder)"
   ]
  },
  {
   "cell_type": "code",
   "execution_count": null,
   "id": "32aa0b1c-f183-4363-a388-e117507796e8",
   "metadata": {},
   "outputs": [],
   "source": [
    "from pathlib import Path\n",
    "rd.open_session()\n",
    "df = get_contracts_data(baseCon.value, dp.value[0], dp.value[1])\n",
    "fileName = baseCon.value + '.csv'\n",
    "df.to_csv(Path.home() / fileName)\n",
    "rd.close_session()\n",
    "df.head()"
   ]
  },
  {
   "cell_type": "markdown",
   "id": "fd2589e3-5416-4f4d-881d-9288baad4d26",
   "metadata": {},
   "source": [
    "### Spread Analysis\n",
    "Enter two contratcs from above table (for example Cc1,Cc2) to analyze the spread between them."
   ]
  },
  {
   "cell_type": "code",
   "execution_count": null,
   "id": "e0883c3a-f4e6-44bc-b27d-7dd1dc7c32d6",
   "metadata": {},
   "outputs": [],
   "source": [
    "tf = TextField(placeholder='input two contracts separted by comma')\n",
    "tf"
   ]
  },
  {
   "cell_type": "code",
   "execution_count": null,
   "id": "74417134-cc21-4a81-8451-c6951c407f74",
   "metadata": {},
   "outputs": [],
   "source": [
    "spread_analysis(df, tf.value.split(',')[0], tf.value.split(',')[1])"
   ]
  },
  {
   "cell_type": "markdown",
   "id": "dbec5238-aae1-470d-be10-ef666eb19383",
   "metadata": {},
   "source": [
    "### Spread Analysis Different Contracts"
   ]
  },
  {
   "cell_type": "code",
   "execution_count": null,
   "id": "818cf84a-3b33-44a5-88b6-9785dd029bcb",
   "metadata": {},
   "outputs": [],
   "source": [
    "rd.open_session()\n",
    "start_date = dp.value[0]\n",
    "end_date = dp.value[1]\n",
    "contracts = \"COCO.L\"\n",
    "df_coco = rd.get_history(contracts, fields=[\n",
    "                    \"MID_PRICE\"], start=start_date, end=end_date, interval='daily', count=10000)\n",
    "df_coco.head(5)\n",
    "df[\"COCO.L\"] = df_coco[\"MID_PRICE\"]\n",
    "tf_cc = TextField(placeholder='input one contract')\n",
    "tf_cc"
   ]
  },
  {
   "cell_type": "code",
   "execution_count": null,
   "id": "0516864c-4269-43a5-93ba-9f747c0d419c",
   "metadata": {},
   "outputs": [],
   "source": [
    "spread_analysis(df, tf_cc.value, \"COCO.L\")"
   ]
  }
 ],
 "metadata": {
  "kernelspec": {
   "display_name": "Python 3",
   "language": "python",
   "name": "python3"
  },
  "language_info": {
   "codemirror_mode": {
    "name": "ipython",
    "version": 3
   },
   "file_extension": ".py",
   "mimetype": "text/x-python",
   "name": "python",
   "nbconvert_exporter": "python",
   "pygments_lexer": "ipython3",
   "version": "3.8.15"
  },
  "widgets": {
   "application/vnd.jupyter.widget-state+json": {
    "state": {},
    "version_major": 2,
    "version_minor": 0
   }
  }
 },
 "nbformat": 4,
 "nbformat_minor": 5
}
