{
 "cells": [
  {
   "cell_type": "markdown",
   "id": "64617946-69d7-41ab-ab65-925842d17595",
   "metadata": {},
   "source": [
    "# COGS 108 - Data Checkpoint"
   ]
  },
  {
   "cell_type": "markdown",
   "id": "be467bb0-9cd2-442a-ae29-46dc1fe2832e",
   "metadata": {},
   "source": [
    "# Names\n",
    "- Jack Weston\n",
    "- Spandan Das\n",
    "- Seema Rida\n",
    "- Louis Alejandro Soumah"
   ]
  },
  {
   "cell_type": "markdown",
   "id": "eb69f759-b079-4c36-a275-6cc089e211bf",
   "metadata": {},
   "source": [
    "# Research Question\n",
    "To what extent can agroclimatological features associated with the El Niño-Southern Oscillation (ENSO), as measured by the [Regional NASA POWER DAV](https://power.larc.nasa.gov/data-access-viewer/) (Prediction of Worldwide Energy Resource) Tool, predict daily volatility in cocoa futures and market prices, with a focus on the COCO Wisdom Tree and CCc1 spread, using historical data from 20XX to 2024?"
   ]
  },
  {
   "cell_type": "markdown",
   "id": "94f20d77-09c4-4d73-87a9-0f9d03d0ba0f",
   "metadata": {},
   "source": [
    "# Datasets\n",
    "What data will you use to answer your question? Describe the dataset(s) in terms of number of observations, what kind of features it contains, etc. (Typically students have datasets of ~1000 observations across their datasets. This is not a requirement, but is good to know around the scale of data we're expecting.) You are welcome (and in fact recommended) to find multiple datasets! If you do so, describe each one, and briefly explain how you will combine them together. Include the source of the dataset in the description here.\n",
    "\n",
    "For each dataset include the following information\n",
    "\n",
    "- Dataset #1\n",
    "    - Dataset Name:\n",
    "    - Link to the dataset:\n",
    "    - Number of observations:\n",
    "    - Number of variables:\n",
    "- Dataset #2\n",
    "    - Dataset Name:\n",
    "    - Link to the dataset:\n",
    "    - Number of observations:\n",
    "    - Number of variables:\n",
    "- Dataset #3\n",
    "    - Dataset Name:\n",
    "    - Link to the dataset:\n",
    "    - Number of observations:\n",
    "    - Number of variables:\n",
    "- Dataset #4\n",
    "    - Dataset Name:\n",
    "    - Link to the dataset:\n",
    "    - Number of observations:\n",
    "    - Number of variables:\n",
    "\n",
    "Now write 2 - 5 sentences describing each dataset here. Include a short description of the important variables in the dataset; what the metrics and datatypes are, what concepts they may be proxies for. Include information about how you would need to wrangle/clean/preprocess the dataset\n",
    "\n",
    "If you plan to use multiple datasets, add a few sentences about how you plan to combine these datasets."
   ]
  },
  {
   "cell_type": "markdown",
   "id": "7aac85c2-ad31-45f2-876a-8df89c944837",
   "metadata": {},
   "source": [
    "# Setup\n",
    "Include packages used for analysis in cell provided"
   ]
  },
  {
   "cell_type": "markdown",
   "id": "f119c562-98d3-4bf5-ac35-785d3b084b30",
   "metadata": {},
   "source": [
    "# Data Cleaning\n",
    "Get each of your datasets into a usable (likely, tidy) format. Briefly explain what steps you had to take before you were able to use the datasets you chose to answer your question of interest.\n",
    "\n",
    "- How 'clean' is the data?\n",
    "- What did you have to do to get the data into a usable format? (If you did nothing, how did you determine there was nothing to do?)\n",
    "- What pre-processing steps that were required for your methods (for example, checking data distributions and performing any transformations that may be required)"
   ]
  },
  {
   "cell_type": "code",
   "execution_count": null,
   "id": "9a745560-b75d-4635-a33e-7f0eabacb626",
   "metadata": {},
   "outputs": [],
   "source": []
  }
 ],
 "metadata": {
  "kernelspec": {
   "display_name": "Python 3 (ipykernel)",
   "language": "python",
   "name": "python3"
  },
  "language_info": {
   "codemirror_mode": {
    "name": "ipython",
    "version": 3
   },
   "file_extension": ".py",
   "mimetype": "text/x-python",
   "name": "python",
   "nbconvert_exporter": "python",
   "pygments_lexer": "ipython3",
   "version": "3.11.9"
  }
 },
 "nbformat": 4,
 "nbformat_minor": 5
}
