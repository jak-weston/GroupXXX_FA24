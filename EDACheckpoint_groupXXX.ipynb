{
 "cells": [
  {
   "cell_type": "markdown",
   "id": "204732b0-9c30-4055-9386-ff2a31fc56e5",
   "metadata": {},
   "source": [
    "# COGS 108 - EDA Checkpoint"
   ]
  },
  {
   "cell_type": "markdown",
   "id": "ec857012-06aa-4fb5-9176-e1c99000554c",
   "metadata": {},
   "source": [
    "# Names\n",
    "- Jack Weston\n",
    "- Spandan Das\n",
    "- Seema Rida"
   ]
  },
  {
   "cell_type": "markdown",
   "id": "ef0445c9-050a-4519-8d88-6f633af7f16a",
   "metadata": {},
   "source": [
    "# Research Question"
   ]
  },
  {
   "cell_type": "markdown",
   "id": "5ff8a7dd-2ba9-435a-bfe1-d5503195cffd",
   "metadata": {},
   "source": [
    "# Setup"
   ]
  },
  {
   "cell_type": "markdown",
   "id": "64cc7c1a-0dbe-45ea-b857-f61817e566a2",
   "metadata": {},
   "source": [
    "# Data Cleaning"
   ]
  },
  {
   "cell_type": "markdown",
   "id": "f1325b16-5354-4f6c-a684-82efe7ec3944",
   "metadata": {},
   "source": [
    "# DATA ANALYSIS & RESULTS\n",
    "This section should include markdown text and code walking us through the following:\n",
    "\n",
    "- EDA\n",
    "    - What distributions do your variables take?\n",
    "    - Are there any outliers?\n",
    "    - Relationship between variables?\n",
    "\n",
    "At the end of this checkpoint, it should be clear that you know your data well. Note that visualizations do not have to be perfect (yet!), but they do have to be appropriate and interpreted. Include explanations of what you learn from each visualization generated."
   ]
  }
 ],
 "metadata": {
  "kernelspec": {
   "display_name": "Python 3 (ipykernel)",
   "language": "python",
   "name": "python3"
  },
  "language_info": {
   "codemirror_mode": {
    "name": "ipython",
    "version": 3
   },
   "file_extension": ".py",
   "mimetype": "text/x-python",
   "name": "python",
   "nbconvert_exporter": "python",
   "pygments_lexer": "ipython3",
   "version": "3.11.9"
  }
 },
 "nbformat": 4,
 "nbformat_minor": 5
}
