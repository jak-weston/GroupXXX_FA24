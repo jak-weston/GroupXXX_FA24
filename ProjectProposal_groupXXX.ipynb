{
 "cells": [
  {
   "cell_type": "markdown",
   "id": "3288c88a-b5b6-4494-bcc6-103b1324818c",
   "metadata": {},
   "source": [
    "# COGS 108- Project Proposal"
   ]
  },
  {
   "cell_type": "markdown",
   "id": "fd48e6cb-597b-41f4-9311-80ce1d5d3e62",
   "metadata": {},
   "source": [
    "# Names\n",
    "- Jack Weston\n",
    "- Spandan Das\n",
    "- Seema Rida\n",
    "- Louis Alejandro Soumah"
   ]
  },
  {
   "cell_type": "markdown",
   "id": "2e4b2da7-cbb9-4761-af7b-f429f260a6a2",
   "metadata": {},
   "source": [
    "# Research Question\n",
<<<<<<< HEAD
    "To what extent can agroclimatological features associated with the El Niño-Southern Oscillation (ENSO), as measured by the [Regional NASA POWER DAV](https://power.larc.nasa.gov/data-access-viewer/) (Prediction of Worldwide Energy Resource) Tool, predict daily volatility in cocoa futures and market prices, with a focus on the COCO Wisdom Tree and CCc1 spread, using historical data from 20XX to 2024?"
=======
    "To what extent can agroclimatological features associated with the El Niño-Southern Oscillation (ENSO), as measured by the Regional NASA POWER DAV (Prediction of Worldwide Energy Resource) Tool, predict daily volatility in cocoa futures and market prices, with a focus on the COCO Wisdom Tree and CCc1 spread, using historical data from April to October 2024."
>>>>>>> ed24cbc8ad16c258f456972778ed5351aba324de
   ]
  },
  {
   "cell_type": "markdown",
   "id": "46932d01-3ce8-4212-99f1-fc19156e36ed",
   "metadata": {},
   "source": [
    "# Background and Prior Work\n",
    "This section will present the background and context of your topic and question in a few paragraphs. Include a general introduction to your topic and then describe what information you currently know about the topic after doing your initial research. Include references to other projects who have asked similar questions or approached similar problems. Explain what others have learned in their projects.\n",
    "\n",
    "Find some relevant prior work, and reference those sources, summarizing what each did and what they learned. Even if you think you have a totally novel question, find the most similar prior work that you can and discuss how it relates to your project.\n",
    "\n",
    "References can be research publications, but they need not be. Blogs, GitHub repositories, company websites, etc., are all viable references if they are relevant to your project. It must be clear which information comes from which references. (2-3 paragraphs, including at least 2 references)"
   ]
  },
  {
   "cell_type": "markdown",
   "id": "ac099aa9-17d1-41a8-a1cc-7508dcad3625",
   "metadata": {},
   "source": [
    "# Hypothesis\n",
    "What is your main hypothesis/predictions about what the answer to your question is? Briefly explain your thinking. (2-3 sentences)\n",
    "\n",
    "Test"
   ]
  },
  {
   "cell_type": "markdown",
   "id": "c2097651-d310-42e1-9010-09850bda49c7",
   "metadata": {},
   "source": [
    "# Data\n",
    "Here, you are to think about and describe the ideal dataset (or datasets) you you would need to answer this question:\n",
    "\n",
    "- What variables would you have?\n",
    "- How would they be stored?\n",
    "- How many observations would you have?\n",
    "- What/who would the observations be? Over what time period? etc.\n",
    "etc.\n",
    "Note: For the project proposal, you do NOT have to find the actual dataset(s) needed for your project. For the first checkpoint and onward, you will."
   ]
  },
  {
   "cell_type": "markdown",
   "id": "fd6ee85e-5742-4e65-9c82-d573389fe455",
   "metadata": {},
   "source": [
    "# Ethics & Privacy\n",
    "Acknowledge and address any ethics & privacy related issues of your question(s), proposed dataset(s), and/or analyses. Use the information provided in lecture to guide your group discussion and thinking. If you need further guidance, check out Deon's Ethics Checklist. In particular:\n",
    "\n",
    "- Are there any biases/privacy/terms of use issues with the data you propsed?\n",
    "- Are there potential biases in your dataset(s), in terms of who it composes, and how it was collected, that may be problematic in terms of it allowing for equitable analysis? (For example, does your data exclude particular populations, or is it likely to reflect particular human biases in a way that could be a problem?)\n",
    "- How will you set out to detect these specific biases before, during, and after/when communicating your analysis?\n",
    "- Are there any other issues related to your topic area, data, and/or analyses that are potentially problematic in terms of data privacy and equitable impact?\n",
    "- How will you handle issues you identified?\n",
    "(1-2 paragraphs)"
   ]
  },
  {
   "cell_type": "markdown",
   "id": "43584502-a505-4918-9565-a345e93183c1",
   "metadata": {},
   "source": [
    "# Team Expectations\n",
    "Read over the [COGS108 Team Policies](https://github.com/COGS108/Projects/blob/master/COGS108_TeamPolicies.md) individually. Then, include your group’s expectations of one another for successful completion of your COGS108 project below. Discuss and agree on what all of your expectations are. Discuss how your team will communicate throughout the quarter and consider how you will communicate respectfully should conflicts arise. By including each member’s name above and by adding their name to the submission, you are indicating that you have read the COGS108 Team Policies, accept your team’s expectations below, and have every intention to fulfill them. These expectations are for your team’s use and benefit — they won’t be graded for their details."
   ]
  },
  {
   "cell_type": "markdown",
   "id": "e92a590f-a0bb-475e-87e2-4b250b1ce6b6",
   "metadata": {},
   "source": [
    "# Project Timeline Proposal\n",
    "Specify your team's specific project timeline. An example timeline has been provided. Changes the dates, times, names, and details to fit your group's plan.\n",
    "\n",
    "If you think you will need any special resources or training outside what we have covered in COGS 108 to solve your problem, then your proposal should state these clearly. For example, if you have selected a problem that involves implementing multiple neural networks, please state this so we can make sure you know what you’re doing and so we can point you to resources you will need to implement your project. Note that you are not required to use outside methods.\n",
    "\n",
    "To reemphasize: for the Project Proposal you are not expected to have already done any analyses for the proposed project, but what you submit should be a plan for what you will answer and what data you would ideally have for the project. (Of course, for the final project you will need to actually find the data and do the analyses.)"
   ]
  },
  {
   "cell_type": "markdown",
   "id": "7da395cd-01b8-4ae7-bb8c-23502f970108",
   "metadata": {},
   "source": [
    "| Meeting Date | Meeting Time | Completed Before Meeting | Discuss at Meeting |\n",
    "|:------------:|:------------:|--------------------------|--------------------|\n",
    "| 9/30  | 1PM | NA | - Project Overview <br> - Project Guidelines <br> - JupyterHub Setup <br> - Set up GitHub repository | \n",
    "| 10/5  | 11AM - 12PM | - Review 3 previous projects <br> - Propose 3 project ideas each | - Reviewed project guidelines <br> - Discussed proposed projects <br> - Developed a plan for the next meeting | \n",
    "| 10/7  | 5PM - 6PM | - Review 3 research papers (focus on referenced datasets) <br> - Identify 2-3 datasets for chosen topic | - Meet at Geisel <br> - Select the strongest project | \n",
    "| 10/10 | 11AM - 12PM | - Consult with TA to review project plan <br> | - Research prior work for background section <br> |\n",
    "| 10/12 | 11AM - 1PM | - Made list of data from NASA website to choose from <br> - Finish Project Proposal | - Decide on data to use for clearning <br>  \n",
    "| 10/14 | 9AM - 10AM | - Finish Project Proposal | - Reframe Question to be more specific <br> - Gather data for clearning <br> |\n",
    "| 10/16 | 9AM - 10AM | - Finish Project Proposal <br> - upload data to kaggle <br> - Gather data for clearning | - Create a task list for the analysis |"
   ]
  }
 ],
 "metadata": {
  "kernelspec": {
   "display_name": "Python 3 (ipykernel)",
   "language": "python",
   "name": "python3"
  },
  "language_info": {
   "codemirror_mode": {
    "name": "ipython",
    "version": 3
   },
   "file_extension": ".py",
   "mimetype": "text/x-python",
   "name": "python",
   "nbconvert_exporter": "python",
   "pygments_lexer": "ipython3",
   "version": "3.11.9"
  }
 },
 "nbformat": 4,
 "nbformat_minor": 5
}
