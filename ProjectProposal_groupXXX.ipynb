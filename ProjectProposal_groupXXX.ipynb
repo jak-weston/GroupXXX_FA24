{
 "cells": [
  {
   "cell_type": "markdown",
   "id": "3288c88a-b5b6-4494-bcc6-103b1324818c",
   "metadata": {},
   "source": [
    "# COGS 108- Project Proposal"
   ]
  },
  {
   "cell_type": "markdown",
   "id": "fd48e6cb-597b-41f4-9311-80ce1d5d3e62",
   "metadata": {},
   "source": [
    "# Names\n",
    "- Jack Weston\n",
    "- Spandan Das\n",
    "- Seema Rida\n",
    "- Louis Alejandro Soumah"
   ]
  },
  {
   "cell_type": "markdown",
   "id": "2e4b2da7-cbb9-4761-af7b-f429f260a6a2",
   "metadata": {},
   "source": [
    "# Research Question\n",
    "To what extent can agroclimatological features associated with the El Niño-Southern Oscillation (ENSO), as measured by the Regional NASA POWER DAV (Prediction of Worldwide Energy Resource) Tool, predict daily volatility in cocoa futures and market prices, with a focus on the COCO Wisdom Tree and CCc1 spread, using historical data from March 1st 2024 to October 15th 2024."
   ]
  },
  {
   "cell_type": "markdown",
   "id": "46932d01-3ce8-4212-99f1-fc19156e36ed",
   "metadata": {},
   "source": [
    "# Background and Prior Work"
   ]
  },
  {
   "cell_type": "markdown",
   "id": "201e86ca-f0dd-4627-a9f9-11a39fb1193a",
   "metadata": {},
   "source": [
    "Cocoa grows in the pods of the Theobroma cacao tree with a name that roughly translates to “God food” in Greek. Since the Aztecs and Mayans, Cocoa had long been used as a form of consumable currency.<a name=\"cite_ref-1\"></a>[<sup>[1]</sup>](https://chocolateclass.wordpress.com/2020/03/24/cacao-currency-ancient-civilizations-used-chocolate-as-cash/#:~:text=Although%20people%20mostly%20bartered%20goods,Aztecs%2C%20valued%20cacao%20as%20money\n",
    ") This commodity has become a highly prized export in the modern world. We use Cocoa not only to make desserts and a large variety of drinks, but it is also used for a number of skin products such as lotions, creams, and lip balms which is why it is traded so abundantly.<a name=\"cite_ref-2\"></a>[<sup>[2]</sup>](https://www.markets.com/education-centre/cocoa-trading/)\n",
    "\n",
    "Cocoa futures are similar to stocks and bonds, in the sense that they allow traders to buy and sell cocoa at predetermined prices on a specified future date. When trading, a future contract represents 10 metric tons of cocoa thus can be sold either partially. Cocoa is traded on the New York Mercantile Exchange (NYMEX) and the Intercontinental Exchange (ICE) in London. The South Asian market and London prices are based on cocoa produced in African regions, particularly Ghana and the Ivory Coast—two of the world’s largest sources of cocoa production. Cocoa is one of the smallest soft commodity markets, but regardless it still has a major influence on the futures market.<a name=\"cite_ref-3\"></a>[<sup>[3]</sup>](https://tradingeconomics.com/commodity/cocoa#:~:text=12%20of%202024.-,Cocoa%20increased%203%2C560.48%20USD/MT%20or%2084.85%25%20since%20the%20beginning,9639.41%20in%2012%20months%20time.&text=Cocoa%20is%20traded%20on%20New,difference%20(CFD)%20financial%20instruments)\n",
    "\n",
    "The COCO Wisdom Tree and CCc1 spread are key indicators in the cocoa futures market. The COCO Wisdom Tree is an exchange-traded product that tracks cocoa futures prices, providing investors with a way to gain exposure to the cocoa market without directly trading futures. The CCc1 spread represents the difference between two different cocoa futures contracts, typically from different delivery months. This spread can widen or narrow based on market expectations of supply and demand, reflecting shifts caused by weather patterns, geopolitical factors, or speculative trading. By analyzing these spreads, traders gain insights into short-term price volatility and market sentiment.\n",
    "\n",
    "Cocoa futures provide crucial financial instruments for both producers and buyers. Farmers use futures contracts to hedge against potential price drops, securing stable income despite volatile market conditions. Similarly, manufacturers such as Hershey and Mondelez use futures contracts to protect against rising cocoa costs, ensuring they can stabilize their production costs. High volatility in cocoa futures, driven by agroclimatic events like ENSO, forces these actors to adjust their strategies accordingly, sometimes leading to sudden changes in pricing for consumers.\n",
    "\n",
    "In the last year, the highest recorded price of cocoa futures was \\\\$12,261.2 (April 19th 2024) per metric ton which was about a 76 percent increase from (April 19th 2023) at \\\\$2,979.00. This was due to a low crop yield in the Ivory coast and Ghana in 2023 due to low rainfall, plant disease and the short lifespan of the cacao tree. Since the Ivory coast accounts for more than 60% of the world's cocoa production, thus the shortage was met with a wave of financial speculation leading not only the future prices of coca to spike, but also big name brands such as Hershey and Mondelez, the company that produces Cadbury and Toblorne to increase their prices about 5 and 6 percent respectively.<a name=\"cite_ref-4\"></a>[<sup>[4]</sup>](https://chocolateclass.wordpress.com/2020/03/24/cacao-currency-ancient-civilizations-used-chocolate-as-cash/#:~:text=Although%20people%20mostly%20bartered%20goods,Aztecs%2C%20valued%20cacao%20as%20money)\n",
    "\n",
    "The El Niño Southern Oscillation (ENSO) is a weather pattern that comes in waves every 3-7 years on average and significantly impacts cocoa crop yields depending on different factors such as crop type, growing season, location, and ENSO phase. It is an accurate and reliable tool when it comes to predicting crop yield considering that it accurately predicts around 23-26% of yield variation. ENSO has two phases: El Niño and La Niña. During El Niño, warm water from the western Pacific moves eastward, raising global temperatures and can often lead to wetter conditions (storms or heavy rainfall). Producing the opposite outcome, La Niña brings cooler water from the eastern Pacific which then lowers global temperatures and typically results in drier conditions.<a name=\"cite_ref-5\"></a>[<sup>[5]</sup>](https://www.nytimes.com/2024/05/10/business/cocoa-prices-chocolate.html)\n",
    "\n",
    "Agroclimatological factors like temperature, water availability, soil fertility, and humidity are critical to the health and productivity of cocoa trees. Extreme deviations from the optimal growing conditions—such as those brought on by ENSO—can exacerbate supply disruptions, leading to significant fluctuations in the futures market. Investors and traders monitor these environmental indicators closely, as a poor growing season can prompt speculative trading, increasing market volatility. Conversely, favorable weather conditions can lead to market corrections and oversupply, which may depress prices.\n",
    "\n",
    "In addition to the weather-related factors, another significant change in the cocoa market has been the increasing conversion of cocoa plantations to palm oil production in some regions, particularly in Southeast Asia. Palm oil is often seen as a more profitable crop due to its high demand and versatile uses, leading many farmers to switch away from cocoa. This shift has contributed to the recent reduction in cocoa supply, further driving up prices in an already volatile market. Combined with weather disruptions like El Niño, these supply-side constraints have amplified market volatility.\n",
    "\n",
    "This study will use historical data from March 1st 2024 to October 15th 2024, focusing on major ENSO events and their corresponding impacts on cocoa production, futures prices, and market volatility. By incorporating data from the Regional NASA POWER DAV Tool, we aim to quantify how accurately these agroclimatic features can predict daily fluctuations in the COCO Wisdom Tree and CCc1 spread.\n"
   ]
  },
  {
   "cell_type": "markdown",
   "id": "482faf0e-6c72-4ddb-b8b0-a59400643f39",
   "metadata": {},
   "source": [
    "# Refrences\n",
    "1. \"Cacao Currency: Ancient Civilizations Used Chocolate as Cash.\" *Chocolate Class*, 24 Mar. 2020, [https://chocolateclass.wordpress.com/2020/03/24/cacao-currency-ancient-civilizations-used-chocolate-as-cash/](https://chocolateclass.wordpress.com/2020/03/24/cacao-currency-ancient-civilizations-used-chocolate-as-cash/).\n",
    "\n",
    "2. *Cocoa Trading.* Markets.com, [https://www.markets.com/education-centre/cocoa-trading/](https://www.markets.com/education-centre/cocoa-trading/).\n",
    "\n",
    "3. *Cocoa.* *Trading Economics*, [https://tradingeconomics.com/commodity/cocoa](https://tradingeconomics.com/commodity/cocoa).\n",
    "\n",
    "4. \"Cacao Currency: Ancient Civilizations Used Chocolate as Cash.\" *Chocolate Class*, 24 Mar. 2020, [https://chocolateclass.wordpress.com/2020/03/24/cacao-currency-ancient-civilizations-used-chocolate-as-cash/](https://chocolateclass.wordpress.com/2020/03/24/cacao-currency-ancient-civilizations-used-chocolate-as-cash/). "
   ]
  },
  {
   "cell_type": "markdown",
   "id": "ac099aa9-17d1-41a8-a1cc-7508dcad3625",
   "metadata": {},
   "source": [
    "# Hypothesis"
   ]
  },
  {
   "cell_type": "markdown",
   "id": "6f56e02b-c049-42be-9a46-8ed413c2498d",
   "metadata": {},
   "source": [
    "We predict that agroclimatological features associated with El Niño-Southern Oscillation (ENSO), particularly rainfall and temperature anomalies, will significantly correlate with daily volatility in cocoa futures, as reflected in the COCO Wisdom Tree and CCc1 spread. Given ENSO's established impact on global weather patterns and cocoa crop yields, we hypothesize that El Niño phases (with wetter, warmer conditions) will drive higher volatility in cocoa futures compared to La Niña phases (with drier, cooler conditions)."
   ]
  },
  {
   "cell_type": "markdown",
   "id": "c2097651-d310-42e1-9010-09850bda49c7",
   "metadata": {},
   "source": [
    "# Data"
   ]
  },
  {
   "cell_type": "markdown",
   "id": "be5243f6-e76b-420e-829b-8dd6baa0e6cd",
   "metadata": {},
   "source": [
    "| **Variable**                  | **Description**                                                                 | **Type**        | **Time Frequency** |\n",
    "|-------------------------------|---------------------------------------------------------------------------------|-----------------|--------------------|\n",
    "| **Date**                      | Daily records from March 1st, 2024, to October 15th, 2024                        | Date            | Daily              |\n",
    "| **ENSO Phase**                | Categorical variable indicating El Niño, La Niña, or Neutral                     | Categorical      | Daily              |\n",
    "| **Rainfall (mm)**             | Daily precipitation levels in key cocoa-producing regions (Ivory Coast, Ghana)   | Numeric (mm)     | Daily              |\n",
    "| **Temperature (°C)**          | Daily average temperatures in key regions                                        | Numeric (°C)     | Daily              |\n",
    "| **Humidity (%)**              | Daily humidity levels in cocoa-growing regions                                   | Numeric (%)      | Daily              |\n",
    "| **Soil Moisture (%)**         | Daily soil moisture levels in cocoa-growing regions                              | Numeric (%)      | Daily              |\n",
    "| **Wind Speed (m/s)**          | Daily wind speeds in cocoa-producing regions                                     | Numeric (m/s)    | Daily              |\n",
    "| **Cocoa Futures Price (USD)** | Daily closing price of cocoa futures contracts                                   | Numeric (USD)    | Daily              |\n",
    "| **COCO Wisdom Tree Price (USD)** | Daily price of the COCO Wisdom Tree exchange-traded product                   | Numeric (USD)    | Daily              |\n",
    "| **CCc1 Spread**               | Daily spread between two cocoa futures contracts                                 | Numeric (USD)    | Daily              |\n",
    "| **Volatility Index (%)**      | Measure of daily market volatility in cocoa futures                              | Numeric (%)      | Daily              |\n",
    "| **Trading Volume (contracts)**| Daily volume of cocoa futures traded                                             | Numeric          | Daily              |\n",
    "| **Supply Data (metric tons)** | Cocoa production forecasts or actual supply data for 2024                        | Numeric (metric tons) | Monthly/Quarterly  |\n",
    "| **Speculative Activity**      | Indicator of speculative trading activity based on market reports                | Categorical      | Daily              |\n"
   ]
  },
  {
   "cell_type": "markdown",
   "id": "fd6ee85e-5742-4e65-9c82-d573389fe455",
   "metadata": {},
   "source": [
    "# Ethics & Privacy"
   ]
  },
  {
   "cell_type": "markdown",
   "id": "672a1e8c-3527-4c5e-a2ae-4fce58d2e8fc",
   "metadata": {},
   "source": [
    "The data from the Regional NASA POWER DAV Tool is likely to be free from direct privacy concerns since it deals with weather patterns and agroclimatological features rather than personal information. However, one potential ethical issue could arise from market biases. For instance, cocoa futures markets may disproportionately affect certain regions like West Africa, where cocoa farming is a crucial livelihood. Over-reliance on market speculation driven by environmental data could indirectly harm smallholder farmers, especially if it triggers significant price volatility.\n",
    "\n",
    "Additionally, biases in the dataset might arise from incomplete or skewed data collection. For example, if the ENSO data disproportionately focuses on certain regions, or if some climatic factors are weighted more heavily than others, the analysis may produce results that don’t fully account for all relevant variables. To address this, we will carefully evaluate data completeness and strive to ensure an equitable representation of climatic impacts across cocoa-producing regions. We will also include measures to detect biases by comparing different regional trends and assessing whether certain groups are disproportionately affected by market volatility.\n",
    "\n",
    "Finally, we must be cautious about how we communicate our findings, especially in a manner that could unduly influence financial markets. Ensuring that our analysis does not overstate predictive certainty is essential to avoid exacerbating speculative behaviors that could harm producers in vulnerable regions. Transparency about the limitations of our data and models will be a key component of handling these ethical concerns."
   ]
  },
  {
   "cell_type": "markdown",
   "id": "43584502-a505-4918-9565-a345e93183c1",
   "metadata": {},
   "source": [
    "# Team Expectations"
   ]
  },
  {
   "cell_type": "markdown",
   "id": "1ad4ec3b-a5ba-456b-9e1d-ec8571bc2802",
   "metadata": {},
   "source": [
    "**Attendance and Punctuality:** Show up on time to all scheduled meetings. If someone is unable to attend, they must notify the group ahead of time and make efforts to catch up on missed content.\n",
    "\n",
    "**Complete Assigned Work:** Ensure that all pre-assigned tasks are completed by the agreed-upon deadlines. Each member should come to meetings prepared, having made progress on their individual tasks.\n",
    "\n",
    "**Equitable Work Distribution:** Every team member is expected to contribute equitably across all project areas, including coding, writing, and editing. Workloads should be distributed fairly, with everyone doing their part.\n",
    "\n",
    "**Open Communication:** Communicate openly about any difficulties or challenges. If someone is struggling with a task, they should reach out for help in a timely manner rather than waiting until deadlines are close.\n",
    "\n",
    "**Meeting Limit:** No more than three missed meetings will be tolerated from any member (starting now). Online attendance is available, so missing meetings without a legitimate reason will not be accepted."
   ]
  },
  {
   "cell_type": "markdown",
   "id": "e92a590f-a0bb-475e-87e2-4b250b1ce6b6",
   "metadata": {},
   "source": [
    "# Project Timeline Proposal"
   ]
  },
  {
   "cell_type": "markdown",
   "id": "7da395cd-01b8-4ae7-bb8c-23502f970108",
   "metadata": {},
   "source": [
    "| Meeting Date | Meeting Time | Completed Before Meeting | Discuss at Meeting |\n",
    "|:------------:|:------------:|--------------------------|--------------------|\n",
    "| 9/30  | 1PM | NA | - Project Overview <br> - Project Guidelines <br> - JupyterHub Setup <br> - Set up GitHub repository | \n",
    "| 10/5  | 11AM - 12PM | - Review 3 previous projects <br> - Propose 3 project ideas each | - Reviewed project guidelines <br> - Discussed proposed projects <br> - Developed a plan for the next meeting | \n",
    "| 10/7  | 5PM - 6PM | - Review 3 research papers (focus on referenced datasets) <br> - Identify 2-3 datasets for chosen topic | - Meet at Geisel <br> - Select the strongest project | \n",
    "| 10/10 | 11AM - 12PM | - Consult with TA to review project plan <br> | - Research prior work for background section <br> |\n",
    "| 10/12 | 11AM - 1PM | - Made list of data from NASA website to choose from <br> - Finish Project Proposal | - Decide on data to use for clearning <br>  \n",
    "| 10/14 | 9AM - 10AM | - Finish Project Proposal | - Reframe Question to be more specific <br> - Gather data for clearning <br> |\n",
    "| 10/16 | 9AM - 10AM | - Finish Project Proposal <br> - upload data to kaggle <br> - Gather data for clearning | - Explained the data gathered <br> - updates on background research <br> - Oceanic areas had missing data (NASA) |\n",
    "| 10/21 | 6PM - 7PM | - Finish Project Proposal <br> - Data exploration | - Project Review <br> - explained gathered data <br> |\n",
    "| 10/24 | 2:30PM - 3:30PM | - Clean Data | - Review Project Proposal  <br> - Create a task list for the analysis |"
   ]
  },
  {
   "cell_type": "code",
   "execution_count": null,
   "id": "c526c828-15c5-47d8-baa7-706e5e24a454",
   "metadata": {},
   "outputs": [],
   "source": []
  }
 ],
 "metadata": {
  "kernelspec": {
   "display_name": "Python 3 (ipykernel)",
   "language": "python",
   "name": "python3"
  },
  "language_info": {
   "codemirror_mode": {
    "name": "ipython",
    "version": 3
   },
   "file_extension": ".py",
   "mimetype": "text/x-python",
   "name": "python",
   "nbconvert_exporter": "python",
   "pygments_lexer": "ipython3",
   "version": "3.11.9"
  }
 },
 "nbformat": 4,
 "nbformat_minor": 5
}
