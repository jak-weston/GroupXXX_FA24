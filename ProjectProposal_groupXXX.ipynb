{
 "cells": [
  {
   "cell_type": "markdown",
   "id": "3288c88a-b5b6-4494-bcc6-103b1324818c",
   "metadata": {},
   "source": [
    "# COGS 108- Project Proposal"
   ]
  },
  {
   "cell_type": "markdown",
   "id": "fd48e6cb-597b-41f4-9311-80ce1d5d3e62",
   "metadata": {},
   "source": [
    " # Names\n",
    " - Jack Weston"
   ]
  }
 ],
 "metadata": {
  "kernelspec": {
   "display_name": "Python 3 (ipykernel)",
   "language": "python",
   "name": "python3"
  },
  "language_info": {
   "codemirror_mode": {
    "name": "ipython",
    "version": 3
   },
   "file_extension": ".py",
   "mimetype": "text/x-python",
   "name": "python",
   "nbconvert_exporter": "python",
   "pygments_lexer": "ipython3",
   "version": "3.11.9"
  }
 },
 "nbformat": 4,
 "nbformat_minor": 5
}
