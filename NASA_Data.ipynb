{
 "cells": [
  {
   "cell_type": "markdown",
   "id": "ca2da0cb-2b5c-4a34-bab6-de49856756e3",
   "metadata": {},
   "source": [
    "## Tracking daily changes in historic Agroclimatological Data  \n",
    "In this notebook we are extracting historic daily agroclimatological data using NASA Power DAV Tool from March 1st, 2024 to Oct 1st, 2024. Below is a image of the region of data we are observing from Ivory Coast.\n",
    "\n",
    "<img src=\"Images/Cocoa_Region.png\" alt=\"Cocoa Regional Map of Ivory Coast\" style=\"width:40%; display: block; margin: 0 auto;\">"
   ]
  },
  {
   "cell_type": "markdown",
   "id": "cba2d714-5c1c-495b-8a19-548b824cc484",
   "metadata": {},
   "source": [
    "### Import Required Packages"
   ]
  },
  {
   "cell_type": "code",
   "execution_count": 1,
   "id": "e8ce0022-2ee9-4994-bc39-b3ff1e0deb42",
   "metadata": {},
   "outputs": [],
   "source": [
    "import pandas as pd\n",
    "import numpy as np"
   ]
  },
  {
   "cell_type": "markdown",
   "id": "fb386c99-b16d-41d8-a100-b9959091a57c",
   "metadata": {},
   "source": [
    "### Load & Clean Data"
   ]
  },
  {
   "cell_type": "code",
   "execution_count": 3,
   "id": "2a8d1c2c-6129-4880-ad0d-4ccea4d1f2a3",
   "metadata": {},
   "outputs": [
    {
     "data": {
      "text/plain": [
       "20640"
      ]
     },
     "execution_count": 3,
     "metadata": {},
     "output_type": "execute_result"
    }
   ],
   "source": [
    "df = pd.read_csv('Agroclimatological_NASA_Data.csv', on_bad_lines='skip') \n",
    "df.head()\n",
    "len(df.index)"
   ]
  },
  {
   "cell_type": "code",
   "execution_count": 5,
   "id": "85983a63-b5e6-437f-95f7-1295b5158f5f",
   "metadata": {},
   "outputs": [
    {
     "data": {
      "text/html": [
       "<div>\n",
       "<style scoped>\n",
       "    .dataframe tbody tr th:only-of-type {\n",
       "        vertical-align: middle;\n",
       "    }\n",
       "\n",
       "    .dataframe tbody tr th {\n",
       "        vertical-align: top;\n",
       "    }\n",
       "\n",
       "    .dataframe thead th {\n",
       "        text-align: right;\n",
       "    }\n",
       "</style>\n",
       "<table border=\"1\" class=\"dataframe\">\n",
       "  <thead>\n",
       "    <tr style=\"text-align: right;\">\n",
       "      <th></th>\n",
       "      <th>LAT</th>\n",
       "      <th>LON</th>\n",
       "      <th>YEAR</th>\n",
       "      <th>DOY</th>\n",
       "      <th>Earth_Skin_Temp</th>\n",
       "      <th>Rel_Humidity</th>\n",
       "      <th>Root_Soil_Wetness</th>\n",
       "      <th>Precip_Corrected</th>\n",
       "      <th>Temp_Min</th>\n",
       "      <th>Temp_Range</th>\n",
       "    </tr>\n",
       "  </thead>\n",
       "  <tbody>\n",
       "    <tr>\n",
       "      <th>0</th>\n",
       "      <td>4.75</td>\n",
       "      <td>-8.25</td>\n",
       "      <td>2024</td>\n",
       "      <td>61</td>\n",
       "      <td>27.36</td>\n",
       "      <td>84.73</td>\n",
       "      <td>0.52</td>\n",
       "      <td>5.06</td>\n",
       "      <td>25.66</td>\n",
       "      <td>2.36</td>\n",
       "    </tr>\n",
       "    <tr>\n",
       "      <th>1</th>\n",
       "      <td>4.75</td>\n",
       "      <td>-7.75</td>\n",
       "      <td>2024</td>\n",
       "      <td>61</td>\n",
       "      <td>27.21</td>\n",
       "      <td>83.88</td>\n",
       "      <td>0.51</td>\n",
       "      <td>4.17</td>\n",
       "      <td>25.28</td>\n",
       "      <td>3.61</td>\n",
       "    </tr>\n",
       "    <tr>\n",
       "      <th>2</th>\n",
       "      <td>4.75</td>\n",
       "      <td>-7.25</td>\n",
       "      <td>2024</td>\n",
       "      <td>61</td>\n",
       "      <td>27.21</td>\n",
       "      <td>84.68</td>\n",
       "      <td>0.53</td>\n",
       "      <td>5.12</td>\n",
       "      <td>25.30</td>\n",
       "      <td>3.82</td>\n",
       "    </tr>\n",
       "    <tr>\n",
       "      <th>3</th>\n",
       "      <td>4.75</td>\n",
       "      <td>-6.75</td>\n",
       "      <td>2024</td>\n",
       "      <td>61</td>\n",
       "      <td>27.26</td>\n",
       "      <td>86.74</td>\n",
       "      <td>0.58</td>\n",
       "      <td>8.10</td>\n",
       "      <td>25.74</td>\n",
       "      <td>2.73</td>\n",
       "    </tr>\n",
       "    <tr>\n",
       "      <th>4</th>\n",
       "      <td>4.75</td>\n",
       "      <td>-6.25</td>\n",
       "      <td>2024</td>\n",
       "      <td>61</td>\n",
       "      <td>27.85</td>\n",
       "      <td>86.09</td>\n",
       "      <td>0.52</td>\n",
       "      <td>6.88</td>\n",
       "      <td>26.59</td>\n",
       "      <td>1.67</td>\n",
       "    </tr>\n",
       "  </tbody>\n",
       "</table>\n",
       "</div>"
      ],
      "text/plain": [
       "    LAT   LON  YEAR  DOY  Earth_Skin_Temp  Rel_Humidity  Root_Soil_Wetness  \\\n",
       "0  4.75 -8.25  2024   61            27.36         84.73               0.52   \n",
       "1  4.75 -7.75  2024   61            27.21         83.88               0.51   \n",
       "2  4.75 -7.25  2024   61            27.21         84.68               0.53   \n",
       "3  4.75 -6.75  2024   61            27.26         86.74               0.58   \n",
       "4  4.75 -6.25  2024   61            27.85         86.09               0.52   \n",
       "\n",
       "   Precip_Corrected  Temp_Min  Temp_Range  \n",
       "0              5.06     25.66        2.36  \n",
       "1              4.17     25.28        3.61  \n",
       "2              5.12     25.30        3.82  \n",
       "3              8.10     25.74        2.73  \n",
       "4              6.88     26.59        1.67  "
      ]
     },
     "execution_count": 5,
     "metadata": {},
     "output_type": "execute_result"
    }
   ],
   "source": [
    "# Rename column headers\n",
    "df = df.rename(columns={'TS': 'Earth_Skin_Temp', 'RH2M': 'Rel_Humidity', 'GWETROOT': 'Root_Soil_Wetness', 'PRECTOTCORR': 'Precip_Corrected', 'T2M_MIN' : 'Temp_Min', 'T2M_RANGE': 'Temp_Range'})\n",
    "df.head()"
   ]
  },
  {
   "cell_type": "code",
   "execution_count": 18,
   "id": "0c60ff7d-725b-4ae1-b00c-cdfb70747175",
   "metadata": {},
   "outputs": [
    {
     "data": {
      "text/html": [
       "<div>\n",
       "<style scoped>\n",
       "    .dataframe tbody tr th:only-of-type {\n",
       "        vertical-align: middle;\n",
       "    }\n",
       "\n",
       "    .dataframe tbody tr th {\n",
       "        vertical-align: top;\n",
       "    }\n",
       "\n",
       "    .dataframe thead th {\n",
       "        text-align: right;\n",
       "    }\n",
       "</style>\n",
       "<table border=\"1\" class=\"dataframe\">\n",
       "  <thead>\n",
       "    <tr style=\"text-align: right;\">\n",
       "      <th></th>\n",
       "      <th>LAT</th>\n",
       "      <th>LON</th>\n",
       "      <th>YEAR</th>\n",
       "      <th>DOY</th>\n",
       "      <th>Earth_Skin_Temp</th>\n",
       "      <th>Rel_Humidity</th>\n",
       "      <th>Root_Soil_Wetness</th>\n",
       "      <th>Precip_Corrected</th>\n",
       "      <th>Temp_Min</th>\n",
       "      <th>Temp_Range</th>\n",
       "    </tr>\n",
       "  </thead>\n",
       "  <tbody>\n",
       "    <tr>\n",
       "      <th>0</th>\n",
       "      <td>4.75</td>\n",
       "      <td>-8.25</td>\n",
       "      <td>2024</td>\n",
       "      <td>61</td>\n",
       "      <td>27.36</td>\n",
       "      <td>84.73</td>\n",
       "      <td>0.52</td>\n",
       "      <td>5.06</td>\n",
       "      <td>25.66</td>\n",
       "      <td>2.36</td>\n",
       "    </tr>\n",
       "    <tr>\n",
       "      <th>1</th>\n",
       "      <td>4.75</td>\n",
       "      <td>-7.75</td>\n",
       "      <td>2024</td>\n",
       "      <td>61</td>\n",
       "      <td>27.21</td>\n",
       "      <td>83.88</td>\n",
       "      <td>0.51</td>\n",
       "      <td>4.17</td>\n",
       "      <td>25.28</td>\n",
       "      <td>3.61</td>\n",
       "    </tr>\n",
       "    <tr>\n",
       "      <th>2</th>\n",
       "      <td>4.75</td>\n",
       "      <td>-7.25</td>\n",
       "      <td>2024</td>\n",
       "      <td>61</td>\n",
       "      <td>27.21</td>\n",
       "      <td>84.68</td>\n",
       "      <td>0.53</td>\n",
       "      <td>5.12</td>\n",
       "      <td>25.30</td>\n",
       "      <td>3.82</td>\n",
       "    </tr>\n",
       "    <tr>\n",
       "      <th>3</th>\n",
       "      <td>4.75</td>\n",
       "      <td>-6.75</td>\n",
       "      <td>2024</td>\n",
       "      <td>61</td>\n",
       "      <td>27.26</td>\n",
       "      <td>86.74</td>\n",
       "      <td>0.58</td>\n",
       "      <td>8.10</td>\n",
       "      <td>25.74</td>\n",
       "      <td>2.73</td>\n",
       "    </tr>\n",
       "    <tr>\n",
       "      <th>4</th>\n",
       "      <td>4.75</td>\n",
       "      <td>-6.25</td>\n",
       "      <td>2024</td>\n",
       "      <td>61</td>\n",
       "      <td>27.85</td>\n",
       "      <td>86.09</td>\n",
       "      <td>0.52</td>\n",
       "      <td>6.88</td>\n",
       "      <td>26.59</td>\n",
       "      <td>1.67</td>\n",
       "    </tr>\n",
       "  </tbody>\n",
       "</table>\n",
       "</div>"
      ],
      "text/plain": [
       "    LAT   LON  YEAR  DOY  Earth_Skin_Temp  Rel_Humidity  Root_Soil_Wetness  \\\n",
       "0  4.75 -8.25  2024   61            27.36         84.73               0.52   \n",
       "1  4.75 -7.75  2024   61            27.21         83.88               0.51   \n",
       "2  4.75 -7.25  2024   61            27.21         84.68               0.53   \n",
       "3  4.75 -6.75  2024   61            27.26         86.74               0.58   \n",
       "4  4.75 -6.25  2024   61            27.85         86.09               0.52   \n",
       "\n",
       "   Precip_Corrected  Temp_Min  Temp_Range  \n",
       "0              5.06     25.66        2.36  \n",
       "1              4.17     25.28        3.61  \n",
       "2              5.12     25.30        3.82  \n",
       "3              8.10     25.74        2.73  \n",
       "4              6.88     26.59        1.67  "
      ]
     },
     "execution_count": 18,
     "metadata": {},
     "output_type": "execute_result"
    }
   ],
   "source": [
    "# Remove all Root_Soil_Wetness = -999 as it indicates water body\n",
    "df['Root_Soil_Wetness'] = df['Root_Soil_Wetness'].replace(-999, np.nan)\n",
    "df_cleaned = df.dropna(subset=['Root_Soil_Wetness'])\n",
    "df_cleaned.head()"
   ]
  },
  {
   "cell_type": "code",
   "execution_count": 20,
   "id": "e5700b06-6688-4e4d-b849-6cbc3ee7c85a",
   "metadata": {},
   "outputs": [
    {
     "name": "stdout",
     "output_type": "stream",
     "text": [
      "12270\n",
      "(8370, 10)\n"
     ]
    }
   ],
   "source": [
    "# Double check we dropped apprpriate number of rows\n",
    "null_rows = df.isnull().any(axis=1).sum()\n",
    "print(null_rows)\n",
    "print(df_cleaned.shape)"
   ]
  }
 ],
 "metadata": {
  "kernelspec": {
   "display_name": "Python 3 (ipykernel)",
   "language": "python",
   "name": "python3"
  },
  "language_info": {
   "codemirror_mode": {
    "name": "ipython",
    "version": 3
   },
   "file_extension": ".py",
   "mimetype": "text/x-python",
   "name": "python",
   "nbconvert_exporter": "python",
   "pygments_lexer": "ipython3",
   "version": "3.11.9"
  }
 },
 "nbformat": 4,
 "nbformat_minor": 5
}
